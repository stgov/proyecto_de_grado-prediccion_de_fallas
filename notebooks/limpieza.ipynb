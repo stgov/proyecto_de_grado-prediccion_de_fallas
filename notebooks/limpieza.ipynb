{
 "cells": [
  {
   "cell_type": "code",
   "execution_count": 1,
   "id": "5c135b37",
   "metadata": {},
   "outputs": [],
   "source": [
    "import pandas as pd"
   ]
  },
  {
   "cell_type": "code",
   "execution_count": 2,
   "id": "1378ebbc",
   "metadata": {},
   "outputs": [],
   "source": [
    "data_path = \"../data/WorkQueueLog_2025.csv\""
   ]
  },
  {
   "cell_type": "code",
   "execution_count": 3,
   "id": "69ab0f49",
   "metadata": {},
   "outputs": [
    {
     "data": {
      "text/plain": [
       "Index(['Status', 'Attempts', 'Worktime', 'AttemptWorktime', 'Loaded',\n",
       "       'Completed', 'Deferred', 'Exception', 'ExceptionReason', 'QueueName',\n",
       "       'ProcessName', 'UserRobot', 'Resource', 'DateInsert', 'FinishStatus',\n",
       "       'id'],\n",
       "      dtype='object')"
      ]
     },
     "execution_count": 3,
     "metadata": {},
     "output_type": "execute_result"
    }
   ],
   "source": [
    "df = pd.read_csv(data_path, sep=\";\", encoding=\"utf-8\", low_memory=False, index_col=0)\n",
    "\n",
    "df.Worktime = pd.to_timedelta(df.Worktime, errors=\"coerce\")\n",
    "df.AttemptWorktime = pd.to_timedelta(df.AttemptWorktime, errors=\"coerce\")\n",
    "\n",
    "df.Loaded = pd.to_datetime(df.Loaded, errors=\"coerce\")\n",
    "df.Completed = pd.to_datetime(df.Completed, errors=\"coerce\")\n",
    "df.Exception = pd.to_datetime(df.Exception, errors=\"coerce\")\n",
    "df.Deferred = pd.to_datetime(df.Deferred, errors=\"coerce\")\n",
    "df.DateInsert = pd.to_datetime(df.DateInsert, errors=\"coerce\")\n",
    "\n",
    "df.Attempts = pd.to_numeric(df.Attempts, errors=\"coerce\")\n",
    "\n",
    "df.columns"
   ]
  },
  {
   "cell_type": "code",
   "execution_count": 4,
   "id": "bb876df0",
   "metadata": {},
   "outputs": [],
   "source": [
    "df.to_parquet(\n",
    "    \"../clean_data/semi_raw.parquet\",\n",
    "    index=True,\n",
    "    engine=\"pyarrow\",\n",
    "    compression=\"snappy\",\n",
    ")"
   ]
  },
  {
   "cell_type": "code",
   "execution_count": 5,
   "id": "f1eb9f5e",
   "metadata": {},
   "outputs": [],
   "source": [
    "filtered_df = df[~df['FinishStatus'].str.contains('Pending|Working', case=False, na=False)]\n",
    "filtered_df = filtered_df.drop(columns=['QueueName'])\n",
    "\n",
    "filtered_df['FinishStatus'] = filtered_df['FinishStatus'].str.contains('Complete', case=False, na=False)\n",
    "filtered_df = filtered_df[filtered_df['Loaded'].dt.year >= 2025]\n",
    "\n",
    "filtered_df = filtered_df[['Loaded', 'ProcessName', 'UserRobot', 'FinishStatus']].reset_index(drop=True)\n",
    "filtered_df.Loaded = filtered_df.Loaded.dt.date\n",
    "par_robot_proceso = filtered_df.groupby(['Loaded', 'ProcessName', 'UserRobot']).agg(\n",
    "    tasa_excepcion= pd.NamedAgg(column='FinishStatus', aggfunc=lambda x: 1 - x.mean()),\n",
    "    entries=('FinishStatus', 'count')\n",
    ")\n",
    "\n",
    "par_robot_proceso.reset_index().set_index('Loaded').to_parquet(\n",
    "    \"../clean_data/process_robot.parquet\",\n",
    "    index=True,\n",
    "    engine=\"pyarrow\",\n",
    "    compression=\"snappy\",\n",
    ")"
   ]
  },
  {
   "cell_type": "code",
   "execution_count": 6,
   "id": "078f1fe7",
   "metadata": {},
   "outputs": [],
   "source": [
    "filtered_df.set_index('Loaded').fillna(0).groupby(level=0).agg(\n",
    "    tasa_excepcion=pd.NamedAgg(column='FinishStatus', aggfunc=lambda x: 1-x.mean()),\n",
    "    entries=('FinishStatus', 'count')\n",
    ").reset_index().set_index('Loaded').to_parquet(\n",
    "    \"../clean_data/avg_global.parquet\",\n",
    "    index=True,\n",
    "    engine=\"pyarrow\",\n",
    "    compression=\"snappy\",\n",
    ")"
   ]
  }
 ],
 "metadata": {
  "kernelspec": {
   "display_name": ".venv",
   "language": "python",
   "name": "python3"
  },
  "language_info": {
   "codemirror_mode": {
    "name": "ipython",
    "version": 3
   },
   "file_extension": ".py",
   "mimetype": "text/x-python",
   "name": "python",
   "nbconvert_exporter": "python",
   "pygments_lexer": "ipython3",
   "version": "3.10.11"
  }
 },
 "nbformat": 4,
 "nbformat_minor": 5
}
